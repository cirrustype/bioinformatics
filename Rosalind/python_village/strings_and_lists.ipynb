{
 "cells": [
  {
   "cell_type": "markdown",
   "metadata": {},
   "source": [
    "# Strings and Lists \n",
    "\n",
    "## Rosalind Python Village Problem 2\n",
    "\n",
    "### Austin Schenk, April 11 2020"
   ]
  },
  {
   "cell_type": "markdown",
   "metadata": {},
   "source": [
    "Changing working directory. \n",
    "\n",
    "add % infront of commands to use the cells as a terminal?"
   ]
  },
  {
   "cell_type": "code",
   "execution_count": 17,
   "metadata": {},
   "outputs": [
    {
     "data": {
      "text/plain": [
       "'C:\\\\Users\\\\Hal\\\\desktop\\\\bioinformatics'"
      ]
     },
     "execution_count": 17,
     "metadata": {},
     "output_type": "execute_result"
    }
   ],
   "source": [
    "%pwd"
   ]
  },
  {
   "cell_type": "markdown",
   "metadata": {},
   "source": [
    "\n",
    "### Notes:"
   ]
  },
  {
   "cell_type": "markdown",
   "metadata": {},
   "source": [
    "Keyboard shortcuts; Esc + a (new cell above) and Esc + b (new cell below)"
   ]
  },
  {
   "cell_type": "markdown",
   "metadata": {},
   "source": [
    "In python lists are variables that can hols multiple pieces of data. Lists can hold any data type. #can there be a list of lists? Yes. #can a list have multiple data types? Yes. \n",
    "\n",
    "Lists are created with hard brakets with every entry separated by a comma. Lists are indexed by typing an integer insied the hard brakets. the index in python starts at 0 so index[2] is actually the third entry.\n",
    "\n",
    "Example:"
   ]
  },
  {
   "cell_type": "code",
   "execution_count": 8,
   "metadata": {},
   "outputs": [
    {
     "name": "stdout",
     "output_type": "stream",
     "text": [
      "['March Hare', 'Hatter', 'Dormouse', 'Alice']\n",
      "Dormouse\n"
     ]
    },
    {
     "data": {
      "text/plain": [
       "'Dormouse'"
      ]
     },
     "execution_count": 8,
     "metadata": {},
     "output_type": "execute_result"
    }
   ],
   "source": [
    "tea_party = ['March Hare', 'Hatter', 'Dormouse', 'Alice']\n",
    "\n",
    "print(tea_party)# prints the entire list\n",
    "\n",
    "print(tea_party[2]) # prints only the entry at index=2\n",
    "\n",
    "tea_party[2] #also displays third entry of the list but in single quotes"
   ]
  },
  {
   "cell_type": "markdown",
   "metadata": {},
   "source": [
    "To add items to an existing list use the append function by using .append listname.append(new thing). "
   ]
  },
  {
   "cell_type": "code",
   "execution_count": 10,
   "metadata": {
    "scrolled": true
   },
   "outputs": [
    {
     "data": {
      "text/plain": [
       "'Jabberwocky'"
      ]
     },
     "execution_count": 10,
     "metadata": {},
     "output_type": "execute_result"
    }
   ],
   "source": [
    "tea_party.append('Jabberwocky')\n",
    "tea_party[4]"
   ]
  },
  {
   "cell_type": "markdown",
   "metadata": {},
   "source": [
    "To add an item to the list in a specific location use list[loc] = new thing. This will replace the old thing with the new thing at the specified location. "
   ]
  },
  {
   "cell_type": "code",
   "execution_count": 19,
   "metadata": {},
   "outputs": [
    {
     "data": {
      "text/plain": [
       "['March Hare',\n",
       " 'Cheshire Cat',\n",
       " 'Dormouse',\n",
       " 'Alice',\n",
       " 'Jabberwocky',\n",
       " 'Jabberwocky']"
      ]
     },
     "execution_count": 19,
     "metadata": {},
     "output_type": "execute_result"
    }
   ],
   "source": [
    "tea_party[1] = 'Cheshire Cat'\n",
    "tea_party"
   ]
  },
  {
   "cell_type": "markdown",
   "metadata": {},
   "source": [
    "I added Jabberwocky twice some how. A single Jabberwoky at a tea party is trouble enough so to remove the second Jabber use del command; \n",
    "\n",
    "del list[soon to be gone thing] "
   ]
  },
  {
   "cell_type": "code",
   "execution_count": 20,
   "metadata": {},
   "outputs": [
    {
     "data": {
      "text/plain": [
       "['March Hare', 'Cheshire Cat', 'Dormouse', 'Alice', 'Jabberwocky']"
      ]
     },
     "execution_count": 20,
     "metadata": {},
     "output_type": "execute_result"
    }
   ],
   "source": [
    "del tea_party[5]\n",
    "tea_party"
   ]
  },
  {
   "cell_type": "markdown",
   "metadata": {},
   "source": [
    "To check the length (size) of a list use len() command;\n",
    "\n",
    "len(list to check)"
   ]
  },
  {
   "cell_type": "code",
   "execution_count": 21,
   "metadata": {},
   "outputs": [
    {
     "data": {
      "text/plain": [
       "5"
      ]
     },
     "execution_count": 21,
     "metadata": {},
     "output_type": "execute_result"
    }
   ],
   "source": [
    "len(tea_party)"
   ]
  },
  {
   "cell_type": "markdown",
   "metadata": {},
   "source": [
    "To return just part of the list use a colon in the hard brakets; '[start:end]'"
   ]
  },
  {
   "cell_type": "code",
   "execution_count": 18,
   "metadata": {},
   "outputs": [
    {
     "data": {
      "text/plain": [
       "['Hatter', 'Dormouse']"
      ]
     },
     "execution_count": 18,
     "metadata": {},
     "output_type": "execute_result"
    }
   ],
   "source": [
    "tea_party[1:3]"
   ]
  },
  {
   "cell_type": "markdown",
   "metadata": {},
   "source": [
    "You can ommit the starting location when slicing a list to start at the begining (index = 0);\n",
    "tea_party[:end]\n",
    "\n",
    "and start somewhere and go to the last entry in the list; \n",
    "tea_party[start:]\n",
    "\n",
    "You can backtrack from the end of the list using negative indices;"
   ]
  },
  {
   "cell_type": "code",
   "execution_count": 24,
   "metadata": {},
   "outputs": [
    {
     "name": "stdout",
     "output_type": "stream",
     "text": [
      "I invited  ['March Hare', 'Cheshire Cat']  but not ['Alice', 'Jabberwocky']\n"
     ]
    },
    {
     "data": {
      "text/plain": [
       "['Alice', 'Jabberwocky']"
      ]
     },
     "execution_count": 24,
     "metadata": {},
     "output_type": "execute_result"
    }
   ],
   "source": [
    "tea_party[:2]\n",
    "tea_party[3:]\n",
    "print(\"I invited \", tea_party[:2], \" but not\", tea_party[3:])\n",
    "\n",
    "tea_party[-2:]"
   ]
  },
  {
   "cell_type": "markdown",
   "metadata": {},
   "source": [
    "#### Slicing stings:\n",
    "\n",
    "you can slice up strings using the same index methods as you use with lists;"
   ]
  },
  {
   "cell_type": "code",
   "execution_count": 25,
   "metadata": {},
   "outputs": [
    {
     "name": "stdout",
     "output_type": "stream",
     "text": [
      "mimsy\n"
     ]
    }
   ],
   "source": [
    "a = 'flimsy'\n",
    "b =  'miserable'\n",
    "c = b[0:1] + a[2:]\n",
    "print(c)"
   ]
  },
  {
   "cell_type": "markdown",
   "metadata": {},
   "source": [
    "## Problem\n",
    "\n",
    "Given: A string s of length at most 200 letters and four integers a, b, c and d.\n",
    "\n",
    "Return: The slice of this string from indices a\n",
    "through b and c through d (with space in between), inclusively. In other words, we should include elements s[b] and s[d] in our slice."
   ]
  },
  {
   "cell_type": "markdown",
   "metadata": {},
   "source": [
    "#### Using the example dataset;"
   ]
  },
  {
   "cell_type": "code",
   "execution_count": 33,
   "metadata": {},
   "outputs": [
    {
     "name": "stdout",
     "output_type": "stream",
     "text": [
      "Humpty  Dumpty\n"
     ]
    }
   ],
   "source": [
    "s1 = 'HumptyDumptysatonawallHumptyDumptyhadagreatfallAlltheKingshorsesandalltheKingsmenCouldntputHumptyDumptyinhisplaceagain.'\n",
    "s1int = [22, 27, 97, 102]\n",
    "\n",
    "#s1[:s1int[0]]\n",
    "#s1[s1int[0]:s1int[1]] #does not include 27th so you have to go one after\n",
    "\n",
    "x = s1[s1int[0]:s1int[1]+1] #Humpty\n",
    "\n",
    "#s1[s1int[2]:]\n",
    "y = s1[s1int[2]:s1int[3]+1]\n",
    "\n",
    "print(x, '', y) #Humpty Dumpty\n",
    "\n"
   ]
  },
  {
   "cell_type": "markdown",
   "metadata": {},
   "source": [
    "#### Building a fucntion to work with actuall dataset:"
   ]
  },
  {
   "cell_type": "code",
   "execution_count": 37,
   "metadata": {},
   "outputs": [
    {
     "name": "stdout",
     "output_type": "stream",
     "text": [
      "Humpty  Dumpty\n"
     ]
    }
   ],
   "source": [
    "string = '' #for the Leters \n",
    "inte = [] # for the integers \n",
    "\n",
    "def splice(string, inte):\n",
    "    first_word = string[inte[0]:inte[1]+1]\n",
    "    second_word = string[inte[2]:inte[3]+1]\n",
    "    print(first_word, '', second_word)\n",
    "    \n",
    "splice(s1, s1int)\n"
   ]
  },
  {
   "cell_type": "markdown",
   "metadata": {},
   "source": [
    "#### Solution: "
   ]
  },
  {
   "cell_type": "code",
   "execution_count": 38,
   "metadata": {},
   "outputs": [
    {
     "name": "stdout",
     "output_type": "stream",
     "text": [
      "Kinosternon  tarda\n"
     ]
    }
   ],
   "source": [
    "h = 'Kinosternonz9WX8hm6qttardaoHuXItsCxOXZ5wNkwUR8oAuV7jqmTCnqZOcXLjDtyIkC1qncar60WmpU6A9NDfzsjUPvR1djk87WMrBycfIHQRYg1oI5demZ9PnDJJ95PgeVp0ZGyMbkPg0d0N9SgPkYCfqBfLivQSEkl2.'\n",
    "k = [0, 10, 21, 25]\n",
    "\n",
    "splice(h, k) #Kinosternon  tarda\n",
    "#correct!"
   ]
  },
  {
   "cell_type": "markdown",
   "metadata": {},
   "source": [
    "Another cool solution form axelwilhelm:\n",
    "\n",
    "\n",
    "infile = open('stringsAndLists.txt')\n",
    "string1 = infile.readline()\n",
    "string2 = infile.readline()\n",
    "string2 = string2.split(' ')\n",
    "a=int(string2[0])\n",
    "b=int(string2[1])\n",
    "c=int(string2[2])\n",
    "d=int(string2[3])\n",
    "print string1[a:b+1], string1[c:d+1]\n"
   ]
  },
  {
   "cell_type": "code",
   "execution_count": 66,
   "metadata": {},
   "outputs": [
    {
     "name": "stdout",
     "output_type": "stream",
     "text": [
      "Kinosternon []\n",
      "['0', '10', '21', '25\\n']\n",
      "['0', '10', '21', '25\\n']\n",
      "25\n",
      "\n",
      "25\n",
      "Kinosternon []\n",
      "[]\n",
      "Kinosternon tarda\n"
     ]
    }
   ],
   "source": [
    "infile = open('rosalind_ini3.txt')\n",
    "\n",
    "firstline = infile.readline() #reads the first line of .txt file\n",
    "secondline = infile.readline() #somehow knows to read second line?\n",
    "\n",
    "#spliting up the second line into list\n",
    "secondline = secondline.split(' ') #splits on spaces\n",
    "\n",
    "#asigning variables to the indices in the now slpit second line list\n",
    "zero = int(secondline[0]) # must have int() because it is being treated as a string!\n",
    "one = int(secondline[1])\n",
    "two = int(secondline[2])\n",
    "three = int(secondline[3])\n",
    "\n",
    "print(firstline[zero:one+ 1], secondline[two:three + 1])\n",
    "print(secondline)#there is a \\n attached to the last number\n",
    "\n",
    "\n",
    "infile = open('rosalind_ini3.txt')\n",
    "\n",
    "firstline = infile.readline() #reads the first line of .txt file\n",
    "secondline = infile.readline()\n",
    "secondline = secondline.split(' ')\n",
    "\n",
    "print(secondline)\n",
    "print(secondline[3])\n",
    "\n",
    "zero = int(secondline[0])\n",
    "one = int(secondline[1])\n",
    "two = int(secondline[2])\n",
    "three = int(secondline[3])\n",
    "\n",
    "print(three) # no \\n\n",
    "\n",
    "print(firstline[zero:one+ 1], secondline[two:three])\n",
    "print(secondline[two:three])\n",
    "\n",
    "# I am an idiort, the text is all on the fiest line !\n",
    "print(firstline[zero:one+ 1], firstline[two:three + 1]) #correct!\n",
    "\n"
   ]
  }
 ],
 "metadata": {
  "kernelspec": {
   "display_name": "Python 3",
   "language": "python",
   "name": "python3"
  },
  "language_info": {
   "codemirror_mode": {
    "name": "ipython",
    "version": 3
   },
   "file_extension": ".py",
   "mimetype": "text/x-python",
   "name": "python",
   "nbconvert_exporter": "python",
   "pygments_lexer": "ipython3",
   "version": "3.7.6"
  }
 },
 "nbformat": 4,
 "nbformat_minor": 4
}
